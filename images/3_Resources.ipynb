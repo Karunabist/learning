{
  "nbformat": 4,
  "nbformat_minor": 0,
  "metadata": {
    "colab": {
      "provenance": [],
      "collapsed_sections": []
    },
    "kernelspec": {
      "name": "python3",
      "display_name": "Python 3"
    }
  },
  "cells": [
    {
      "cell_type": "markdown",
      "metadata": {
        "id": "9FnCUPHG3_K7"
      },
      "source": [
        "https://en.wikipedia.org/wiki/Computer_science"
      ]
    },
    {
      "cell_type": "markdown",
      "metadata": {
        "id": "F4a71v-q94fq"
      },
      "source": [
        "# We will learn : computer hardware, computer network, company programming, mathematics, database, big data, Data science, artificial intelligence from the below resources"
      ]
    },
    {
      "cell_type": "markdown",
      "metadata": {
        "id": "6kyfXfmZ2DHC"
      },
      "source": [
        "# Resource: \n"
      ]
    },
    {
      "cell_type": "markdown",
      "metadata": {
        "id": "bLXGAIuvONWn"
      },
      "source": [
        "1. For everything we read **documentation**."
      ]
    },
    {
      "cell_type": "markdown",
      "metadata": {
        "id": "aSsJXQ3bTf0r"
      },
      "source": [
        "2. Note i already subscribe youtube channel from madadnbaduwal100@gmail.com id."
      ]
    },
    {
      "cell_type": "markdown",
      "metadata": {
        "id": "5cVQAxcC57Cb"
      },
      "source": [
        "## University\n",
        "\n",
        "* MIT\n",
        "    * https://www.youtube.com/watch?v=TjZBTDzGeGg&list=PLUl4u3cNGP63gFHB6xb-kVBiQHYe_4hSi\n",
        "    * https://www.youtube.com/watch?v=njKP3FqW3Sk&list=PLtBw6njQRU-rwp5__7C0oIVt26ZgjG9NI\n",
        "    * https://ocw.mit.edu/courses/electrical-engineering-and-computer-science/6-867-machine-learning-fall-2006/\n",
        "    \n",
        "    \n",
        "* Standford(Andrew Ng)\n",
        "\n",
        " * Statistics learning : https://online.stanford.edu/courses/sohs-ystatslearning-statistical-learning-self-paced\n",
        " * Machine learning : CS229 - Machine Learning by Andrew NG ( https://see.stanford.edu/course/cs229  )or its Coursera version (https://www.coursera.org/learn/machine-learning)\n",
        " * Computer vision courses : http://cs231n.stanford.edu/\n",
        " * Natural language processing :http://web.stanford.edu/class/cs224n/\n",
        "\n",
        "* Harvard\n",
        "   * Datascience : https://online-learning.harvard.edu/subject/data-science\n",
        "   * Programming : https://online-learning.harvard.edu/subject/programming"
      ]
    },
    {
      "cell_type": "markdown",
      "metadata": {
        "id": "RleR4YeO6ADA"
      },
      "source": [
        "## Website\n",
        " \n",
        "* catalyzex : https://www.catalyzex.com/ (paper with code)\n",
        "* paperswithcode : https://paperswithcode.com/ ( paper with code)\n",
        "* Coursera\n",
        " * Machine learning and deep learning IBM in Coursera : https://www.coursera.org/professional-certificates/ai-engineer?ranMID=40328&ranEAID=vedj0cWlu2Y&ranSiteID=vedj0cWlu2Y-nPejErsLSXgxKqsGNUEqvw&siteID=vedj0cWlu2Y-nPejErsLSXgxKqsGNUEqvw&utm_content=10&utm_medium=partners&utm_source=linkshare&utm_campaign=vedj0cWlu2Y\n",
        " * Deep learning : https://www.coursera.org/specializations/deep-learning\n",
        " * https://www.coursera.org/specializations/mathematics-machine-learning\n",
        "* Udacity( 2-3-4 month professional stand)\n",
        "    * https://www.udacity.com/school-of-ai\n",
        "* Google\n",
        " * crash course on machine learning by Google : (https://developers.google.com/machine-learning/crash-course/?gclid=Cj0KCQjwv-DaBRCcARIsAI9sba8R1I6ByXZNHjXDHd50khEJ3DHiJZ1DatHjFCdOFmb4zIlqDMg4xj8aAmsxEALw_wcB )\n",
        "* IBM\n",
        "* Edx\n",
        " * Free edx ai course : https://www.edx.org/learn/artificial-intelligence?source=aw&awc=6798_1596380057_fca3c77c00cdbf54e77ecc8e09614bdb&utm_source=aw&utm_medium=affiliate_partner&utm_content=text-link&utm_term=427859_Digital+Defynd\n",
        "\n",
        "* fast.ai\n",
        "    * https://course.fast.ai/\n",
        "* Microsoft\n",
        "* Udemy\n",
        "* Geek for geek\n",
        "* Leetcode\n",
        "* Algorthms : Algo expert\n",
        "* Tutorial points\n",
        "* Hacker rank\n",
        "* Hacker Earth\n",
        "* Code safe\n",
        "* Top coder\n",
        "* Narasimha\n",
        "* Elements of coading interview\n",
        "\n",
        "\n",
        "\n",
        "* Github(https://towardsdatascience.com/top-10-popular-github-repositories-to-learn-about-data-science-4acc7b99c44)\n",
        "\n",
        "\n",
        "\n",
        "* Reinforcement learning : https://www.davidsilver.uk/teaching/\n",
        "\n",
        "* Reinforcement learning : http://rail.eecs.berkeley.edu/deeprlcourse/\n",
        "\n",
        "* https://www.korbit.ai/\n",
        "\n",
        "* https://github.com/amitness/learning\n",
        "\n",
        "* Data analytics : https://www.theforage.com/virtual-internships/prototype/NkaC7knWtjSbi6aYv/Quantium%20Virtual%20Experience%20Program\n",
        "\n",
        "* https://www.pyimagesearch.com/\n",
        "\n",
        "* https://ai.facebook.com/\n",
        "\n",
        "* https://ai.googleblog.com/\n",
        "\n",
        "* https://deepmind.com/blog\n",
        "* https://openai.com/blog/\n",
        "* http://research.baidu.com/Blog\n",
        "* https://www.malongtech.com/en/research.html\n",
        "* https://blogs.nvidia.com/\n",
        "* https://distill.pub/\n",
        "* https://fullstackdeeplearning.com/\n"
      ]
    },
    {
      "cell_type": "markdown",
      "metadata": {
        "id": "Xr-q4OOvz0sI"
      },
      "source": [
        "\n",
        "\n",
        "\n",
        "\n",
        "## Social medias:\n",
        "\n",
        "* Reddit\n",
        "\n",
        "* YouTube\n",
        "\n",
        " * Machine learning : https://www.youtube.com/watch?v=EfnJXeKmodw&list=PLcXJymqaE9PPGGtFsTNoDWKl-VNVX5d6b&index=3\n",
        " * Advaced deep learning and deep learning : https://www.youtube.com/playlist?list=PLqYmG7hTraZDNJre23vqCGIVpfZ_K2RZs\n",
        "\n",
        " * Unsupervise learning : https://www.youtube.com/watch?v=V9Roouqfu-M&list=PLwRJQ4m4UJjPiJP3691u-qWwPGVKzSlNP\n",
        "\n",
        " * Full stack deep learning : https://www.youtube.com/playlist?list=PL1T8fO7ArWlcWg04OgNiJy91PywMKT2lv\n",
        "\n",
        "\n",
        "* Facebook\n",
        "\n",
        "* Twitter\n",
        "\n",
        "* Stack overflow\n",
        "\n",
        "* Linkedin\n",
        " * Linkdine free course : https://www.linkedin.com/learning/artificial-intelligence-foundations-thinking-machines?src=aff-lilpar&veh=aff_src.aff-lilpar_c.partners_pkw.1238999_plc.Digital%20Defynd%20-%20LinkedIn%20Learning_pcrid.449670_learning&trk=aff_src.aff-lilpar_c.partners_pkw.1238999_plc.Digital%20Defynd%20-%20LinkedIn%20Learning_pcrid.449670_learning&clickid=1t7UOhz2WxyOW95wUx0Mo3QwUkiWbpUgD2Uh000&irgwc=1\n",
        "\n",
        "* Quora\n",
        "\n",
        "* Wechat\n",
        "\n",
        "* Slack\n",
        "\n",
        "* Geeklist\n",
        "\n",
        "* Code Review\n",
        "\n",
        "* The code project\n",
        "\n",
        "* WhatsApp\n",
        "\n",
        "* Instagram\n",
        "\n",
        "\n"
      ]
    },
    {
      "cell_type": "markdown",
      "metadata": {
        "id": "TKF6HmBgsz3w"
      },
      "source": [
        "## Download books\n",
        "* http://gen.lib.rus.ec/ ( download any books , write right name of book)\n",
        "* https://booksc.xyz/ ( download books)\n"
      ]
    }
  ]
}